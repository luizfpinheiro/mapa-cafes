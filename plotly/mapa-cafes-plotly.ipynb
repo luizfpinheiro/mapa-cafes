{
 "cells": [
  {
   "cell_type": "code",
   "execution_count": 123,
   "metadata": {},
   "outputs": [],
   "source": [
    "import plotly.plotly as py\n",
    "import plotly.graph_objs as go\n",
    "import pandas as pd\n",
    "\n",
    "mapbox_access_token = 'pk.eyJ1IjoibHVpemZwaW5oZWlybyIsImEiOiJjam91cHFsMWgwMHVxM3ZvM3VpbGU5Z3JhIn0.b_YhQakmc-jbEXKbg_1p0w'"
   ]
  },
  {
   "cell_type": "code",
   "execution_count": 118,
   "metadata": {},
   "outputs": [
    {
     "data": {
      "text/plain": [
       "Cafeteria     object\n",
       "Mês           object\n",
       "Lat          float64\n",
       "Long         float64\n",
       "dtype: object"
      ]
     },
     "execution_count": 118,
     "metadata": {},
     "output_type": "execute_result"
    }
   ],
   "source": [
    "df = pd.read_csv('../data-cafe.csv', encoding='utf-8')\n",
    "df.columns = ['Cafeteria', 'Mês', 'Lat', 'Long']\n",
    "\n",
    "# df['Lat'] = df.Lat.apply(str)\n",
    "# df['Long'] = df.Long.apply(str)\n",
    "\n",
    "df.dtypes"
   ]
  },
  {
   "cell_type": "code",
   "execution_count": 119,
   "metadata": {},
   "outputs": [
    {
     "name": "stdout",
     "output_type": "stream",
     "text": [
      "['-15.83066', '-15.74704', '-15.86577', '-15.81226', '-15.75927', '-15.77004', '-15.83286', '-15.8352', '-15.74702', '-15.84346', '-15.79548', '-15.8338']\n"
     ]
    }
   ],
   "source": [
    "names = []\n",
    "latitude = [] \n",
    "longitude = []\n",
    "\n",
    "for i in range(df.shape[0]):\n",
    "    names.append(df['Cafeteria'][i])\n",
    "    latitude.append(str(round(df['Lat'][i], 5)))\n",
    "    longitude.append(str(round(df['Long'][i], 5)))\n",
    "    \n",
    "print(latitude)"
   ]
  },
  {
   "cell_type": "code",
   "execution_count": 130,
   "metadata": {},
   "outputs": [],
   "source": [
    "data = [ \n",
    "    go.Scattermapbox(\n",
    "            lat=latitude,\n",
    "            lon=longitude,\n",
    "            mode='markers',\n",
    "            marker=dict(\n",
    "                size=10,\n",
    "                color='white' \n",
    "            ),\n",
    "            text=names,\n",
    "    )\n",
    "]"
   ]
  },
  {
   "cell_type": "code",
   "execution_count": 131,
   "metadata": {},
   "outputs": [],
   "source": [
    "layout = go.Layout(\n",
    "    autosize=True,\n",
    "    hovermode='closest',\n",
    "    mapbox=dict(\n",
    "        accesstoken=mapbox_access_token,\n",
    "        bearing=0,\n",
    "        style ='mapbox://styles/mapbox/dark-v9',\n",
    "        center=dict(\n",
    "            lat=-15.81556,\n",
    "            lon=-48.00721\n",
    "        ),\n",
    "        pitch=0,\n",
    "        zoom=10\n",
    "    ),\n",
    ")"
   ]
  },
  {
   "cell_type": "code",
   "execution_count": 132,
   "metadata": {},
   "outputs": [
    {
     "data": {
      "text/html": [
       "<iframe id=\"igraph\" scrolling=\"no\" style=\"border:none;\" seamless=\"seamless\" src=\"https://plot.ly/~luizfpinheiro/2.embed\" height=\"525px\" width=\"100%\"></iframe>"
      ],
      "text/plain": [
       "<plotly.tools.PlotlyDisplay object>"
      ]
     },
     "execution_count": 132,
     "metadata": {},
     "output_type": "execute_result"
    }
   ],
   "source": [
    "fig = dict(data=data, layout=layout)\n",
    "py.iplot(fig, filename='Multiple Mapbox')"
   ]
  },
  {
   "cell_type": "code",
   "execution_count": null,
   "metadata": {},
   "outputs": [],
   "source": []
  }
 ],
 "metadata": {
  "kernelspec": {
   "display_name": "Python 2",
   "language": "python",
   "name": "python2"
  },
  "language_info": {
   "codemirror_mode": {
    "name": "ipython",
    "version": 3
   },
   "file_extension": ".py",
   "mimetype": "text/x-python",
   "name": "python",
   "nbconvert_exporter": "python",
   "pygments_lexer": "ipython3",
   "version": "3.7.1"
  }
 },
 "nbformat": 4,
 "nbformat_minor": 2
}
